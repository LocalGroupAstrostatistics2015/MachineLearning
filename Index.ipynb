{
 "metadata": {
  "name": "",
  "signature": "sha256:6c2f30df22b2f3029e2ad19c9cc41a10b60f57a893c72a0c92eea770ecf730ae"
 },
 "nbformat": 3,
 "nbformat_minor": 0,
 "worksheets": [
  {
   "cells": [
    {
     "cell_type": "markdown",
     "metadata": {},
     "source": [
      "# Machine Learning for Astronomy\n",
      "\n",
      "*Jake VanderPlas, June 2015*\n",
      "\n",
      "## 1. Introduction\n",
      "\n",
      "- [Basics of Machine Learning for Astronomy](Intro.ipynb)\n",
      "\n",
      "## 2. Breakouts\n",
      "\n",
      "You'll probably have time for only one: choose your favorite!\n",
      "\n",
      "- [Classification Breakout: Photometric identification of RR Lyrae](Breakout-Classification.ipynb)\n",
      "- [Regression Breakout: Photometric redshift determination](Breakout-Regression.ipynb)\n",
      "   \n",
      "## 3. Additional content: in depth intro to specific algorithms\n",
      "\n",
      "We won't cover this as a group, but you might wish to read through these yourself.\n",
      "\n",
      "- [Random Forests](indepth_RandomForests.ipynb)\n",
      "- [Support Vector Machines](indepth_SVM.ipynb)\n",
      "- [K Means](indepth_KMeans.ipynb)\n",
      "- [Principal Component Analysis](indepth_PCA.ipynb)\n",
      "\n",
      "These are taken from my [PyCon 2015 Scikit-Learn tutorial](https://github.com/jakevdp/sklearn_pycon2015)"
     ]
    }
   ],
   "metadata": {}
  }
 ]
}