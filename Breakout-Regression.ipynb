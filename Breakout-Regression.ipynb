{
 "metadata": {
  "name": "",
  "signature": "sha256:e582313c6440a9cb1297562dc9d79c83dd6b57fe930faf43a1851cc966504a46"
 },
 "nbformat": 3,
 "nbformat_minor": 0,
 "worksheets": [
  {
   "cells": [
    {
     "cell_type": "markdown",
     "metadata": {},
     "source": [
      "# Exploring Supervised Machine Learning: Regression"
     ]
    },
    {
     "cell_type": "code",
     "collapsed": false,
     "input": [
      "%matplotlib inline\n",
      "import matplotlib as mpl\n",
      "import matplotlib.pyplot as plt\n",
      "import numpy as np\n",
      "\n",
      "# set matplotlib figure style\n",
      "mpl.style.use('ggplot') # only works in matplotlib 1.4+\n",
      "mpl.rc('figure', figsize=(8, 6))"
     ],
     "language": "python",
     "metadata": {},
     "outputs": []
    },
    {
     "cell_type": "markdown",
     "metadata": {},
     "source": [
      "## The Data: Photometric Redshifts\n",
      "\n",
      "The photometric redshift data comes from the spectroscopic galaxy catalog from SDSS DR7.\n",
      "There is a wealth of data in this dataset, but we will focus on photometry and redshift measurements:"
     ]
    },
    {
     "cell_type": "code",
     "collapsed": false,
     "input": [
      "from astroML.datasets import fetch_sdss_specgals\n",
      "data = fetch_sdss_specgals()"
     ],
     "language": "python",
     "metadata": {},
     "outputs": []
    },
    {
     "cell_type": "markdown",
     "metadata": {},
     "source": [
      "This is a much more involved dataset than used in the classification example; it's in the form of a NumPy structured array."
     ]
    },
    {
     "cell_type": "code",
     "collapsed": false,
     "input": [
      "data.dtype.names"
     ],
     "language": "python",
     "metadata": {},
     "outputs": []
    },
    {
     "cell_type": "markdown",
     "metadata": {},
     "source": [
      "We'll extract a matrix of (u,g,r,i,z) model magnitudes to tackle the \"classic\" photometric redshift problem:"
     ]
    },
    {
     "cell_type": "code",
     "collapsed": false,
     "input": [
      "# put magnitudes in a matrix\n",
      "mags = np.vstack([data['modelMag_%s' % f] for f in 'ugriz']).T\n",
      "z = data['z']"
     ],
     "language": "python",
     "metadata": {},
     "outputs": []
    },
    {
     "cell_type": "code",
     "collapsed": false,
     "input": [
      "print(mags.shape)\n",
      "print(z.shape)"
     ],
     "language": "python",
     "metadata": {},
     "outputs": []
    },
    {
     "cell_type": "markdown",
     "metadata": {},
     "source": [
      "More often, photometric redshifts are done on galaxy *colors*, because this minimizes a dependency on galaxy mass which can cause problems, and also helps with data calibration issues."
     ]
    },
    {
     "cell_type": "code",
     "collapsed": false,
     "input": [
      "colors = mags[:, 1:] - mags[:, :-1]"
     ],
     "language": "python",
     "metadata": {},
     "outputs": []
    },
    {
     "cell_type": "markdown",
     "metadata": {},
     "source": [
      "Nevertheless, this step does discard some potentially useful data, so it may not be the best choice!\n",
      "\n",
      "Note that we're explicitly ignoring errors in data, and this is bad.\n",
      "We'll think about how you might address this problem further below.\n",
      "\n",
      "Let's take a look at color-vs-redshift for a subset of these galaxies:"
     ]
    },
    {
     "cell_type": "code",
     "collapsed": false,
     "input": [
      "fig, ax = plt.subplots()\n",
      "\n",
      "N = 50000\n",
      "ax.plot(colors[:N, 1], z[:N], ',', alpha=0.3)\n",
      "\n",
      "ax.set(xlim=(-2, 0),\n",
      "       ylim=(0, 0.4),\n",
      "       xlabel='g - r color',\n",
      "       ylabel='redshift');"
     ],
     "language": "python",
     "metadata": {},
     "outputs": []
    },
    {
     "cell_type": "markdown",
     "metadata": {},
     "source": [
      "From this, it appears that a regression applied to the photometry should give us some amount of information on the redshift."
     ]
    },
    {
     "cell_type": "markdown",
     "metadata": {},
     "source": [
      "## Regression: Determining Photometric Redshift\n",
      "\n",
      "Here we will explore a regression task using the above data."
     ]
    },
    {
     "cell_type": "code",
     "collapsed": false,
     "input": [],
     "language": "python",
     "metadata": {},
     "outputs": []
    }
   ],
   "metadata": {}
  }
 ]
}