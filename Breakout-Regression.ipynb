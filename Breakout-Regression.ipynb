{
 "metadata": {
  "name": "",
  "signature": "sha256:d4626a838a71b8679af7e1334182e84960d06dc3870a8ce6953ce72b8e60a7bd"
 },
 "nbformat": 3,
 "nbformat_minor": 0,
 "worksheets": [
  {
   "cells": [
    {
     "cell_type": "markdown",
     "metadata": {},
     "source": [
      "# Exploring Supervised Machine Learning: Regression"
     ]
    },
    {
     "cell_type": "markdown",
     "metadata": {},
     "source": [
      "This notebook explores a regression task on astronomical data with Scikit-Learn.\n",
      "Much of the practice of machine learning relies on searching through documentation to learn (or remind yourself) of how things are done. Recall that in IPython, you can see the documentation of any function using the ``?`` character. For example:"
     ]
    },
    {
     "cell_type": "code",
     "collapsed": false,
     "input": [
      "import numpy as np\n",
      "np.linspace?"
     ],
     "language": "python",
     "metadata": {},
     "outputs": []
    },
    {
     "cell_type": "markdown",
     "metadata": {},
     "source": [
      "In addition, Google is your friend. Do you want to know how to import a Gaussian mixture model in scikit-learn? Search for \"scikit-learn Gaussian Mixture\" and go from there."
     ]
    },
    {
     "cell_type": "markdown",
     "metadata": {},
     "source": [
      "Below we'll explore a *galaxy photometry* dataset for regression, where the labels give the redshift (based on SDSS spectra for the training set).\n",
      "\n",
      "(see also the [Classification breakout](Breakout-Classification.ipynb))"
     ]
    },
    {
     "cell_type": "code",
     "collapsed": false,
     "input": [
      "%matplotlib inline\n",
      "import matplotlib as mpl\n",
      "import matplotlib.pyplot as plt\n",
      "import numpy as np\n",
      "\n",
      "# set matplotlib figure style\n",
      "mpl.style.use('ggplot') # only works in matplotlib 1.4+\n",
      "mpl.rc('figure', figsize=(8, 6))"
     ],
     "language": "python",
     "metadata": {},
     "outputs": []
    },
    {
     "cell_type": "markdown",
     "metadata": {},
     "source": [
      "## The Data: Photometric Redshifts\n",
      "\n",
      "The photometric redshift data comes from the spectroscopic galaxy catalog from SDSS DR7.\n",
      "There is a wealth of data in this dataset, but we will focus on photometry and redshift measurements:"
     ]
    },
    {
     "cell_type": "code",
     "collapsed": false,
     "input": [
      "from astroML.datasets import fetch_sdss_specgals\n",
      "data = fetch_sdss_specgals()"
     ],
     "language": "python",
     "metadata": {},
     "outputs": []
    },
    {
     "cell_type": "markdown",
     "metadata": {},
     "source": [
      "This is a much more involved dataset than used in the classification example; it's in the form of a NumPy structured array."
     ]
    },
    {
     "cell_type": "code",
     "collapsed": false,
     "input": [
      "data.dtype.names"
     ],
     "language": "python",
     "metadata": {},
     "outputs": []
    },
    {
     "cell_type": "markdown",
     "metadata": {},
     "source": [
      "We'll extract a matrix of (u,g,r,i,z) model magnitudes to tackle the \"classic\" photometric redshift problem:"
     ]
    },
    {
     "cell_type": "code",
     "collapsed": false,
     "input": [
      "# put magnitudes in a matrix\n",
      "mags = np.vstack([data['modelMag_%s' % f] for f in 'ugriz']).T\n",
      "z = data['z']"
     ],
     "language": "python",
     "metadata": {},
     "outputs": []
    },
    {
     "cell_type": "code",
     "collapsed": false,
     "input": [
      "print(mags.shape)\n",
      "print(z.shape)"
     ],
     "language": "python",
     "metadata": {},
     "outputs": []
    },
    {
     "cell_type": "markdown",
     "metadata": {},
     "source": [
      "More often, photometric redshifts are done on galaxy *colors*, because this minimizes a dependency on galaxy mass which can cause problems, and also helps with data calibration issues."
     ]
    },
    {
     "cell_type": "code",
     "collapsed": false,
     "input": [
      "colors = mags[:, 1:] - mags[:, :-1]"
     ],
     "language": "python",
     "metadata": {},
     "outputs": []
    },
    {
     "cell_type": "markdown",
     "metadata": {},
     "source": [
      "Nevertheless, this step does discard some potentially useful data, so it may not be the best choice!\n",
      "\n",
      "Note that we're explicitly ignoring errors in data, and this is bad.\n",
      "We'll think about how you might address this problem further below.\n",
      "\n",
      "Let's take a look at color-vs-redshift for a subset of these galaxies:"
     ]
    },
    {
     "cell_type": "code",
     "collapsed": false,
     "input": [
      "fig, ax = plt.subplots()\n",
      "\n",
      "N = 50000\n",
      "ax.plot(colors[:N, 1], z[:N], ',', alpha=0.3)\n",
      "\n",
      "ax.set(xlim=(-2, 0),\n",
      "       ylim=(0, 0.4),\n",
      "       xlabel='g - r color',\n",
      "       ylabel='redshift');"
     ],
     "language": "python",
     "metadata": {},
     "outputs": []
    },
    {
     "cell_type": "markdown",
     "metadata": {},
     "source": [
      "From this, it appears that a regression applied to the photometry should give us some amount of information on the redshift."
     ]
    },
    {
     "cell_type": "markdown",
     "metadata": {},
     "source": [
      "## Regression: Determining Photometric Redshift\n",
      "\n",
      "Here we will explore a regression task using the above data."
     ]
    },
    {
     "cell_type": "markdown",
     "metadata": {},
     "source": [
      "### 1. Exploring the Data\n",
      "\n",
      "With any machine learning task, it's a good idea to start by exploring the data.\n",
      "Plot some of the colors vs the redshift. Are there any patterns you see? If you were to create some sort of rough photometric redshift by hand, what would you do? How accurate would you expect to be?\n",
      "\n",
      "Note that plotting the full dataset can be a bit slow; you might try just plotting the first 10,000 points or so."
     ]
    },
    {
     "cell_type": "code",
     "collapsed": false,
     "input": [],
     "language": "python",
     "metadata": {},
     "outputs": []
    },
    {
     "cell_type": "code",
     "collapsed": false,
     "input": [],
     "language": "python",
     "metadata": {},
     "outputs": []
    },
    {
     "cell_type": "code",
     "collapsed": false,
     "input": [],
     "language": "python",
     "metadata": {},
     "outputs": []
    },
    {
     "cell_type": "markdown",
     "metadata": {},
     "source": [
      "### 2. Simple Regression\n",
      "\n",
      "It's always a good idea to start out with a simple regression algorithm to get an idea for how it performs.\n",
      "In Scikit-learn, the ``sklearn.linear_model.LinearRegression`` is a good candidate.\n",
      "Import and fit the model, and use cross-validation to determine the accuracy of the result."
     ]
    },
    {
     "cell_type": "code",
     "collapsed": false,
     "input": [],
     "language": "python",
     "metadata": {},
     "outputs": []
    },
    {
     "cell_type": "code",
     "collapsed": false,
     "input": [],
     "language": "python",
     "metadata": {},
     "outputs": []
    },
    {
     "cell_type": "code",
     "collapsed": false,
     "input": [],
     "language": "python",
     "metadata": {},
     "outputs": []
    },
    {
     "cell_type": "markdown",
     "metadata": {},
     "source": [
      "The default scoring for regression cross-validation is the \"R2 score\", in which 1.0 is perfect and lower values are worse.\n",
      "Other options are ``mean_absolute_error``, ``mean_squared_error``, and ``median_absolute_error``.\n",
      "\n",
      "For the photometric redshift problem in particular, often we're less interested in average performance and more interested in minimizing things like catastrophic outliers (i.e. predictions which are very far from the true value).\n",
      "Scikit-learn doesn't have any scoring methods which account for this, but we can define our own scoring method to measure whatever we'd like. For example, here is a scoring function which computes the percentage of inputs within $\\pm 0.05$ of the true redshift:"
     ]
    },
    {
     "cell_type": "code",
     "collapsed": false,
     "input": [
      "def outlier_score(model, X, y, thresh=0.05):\n",
      "    y_pred = model.predict(X)\n",
      "    diff = abs(y - y_pred)\n",
      "    return np.sum(diff <= thresh) / len(y)"
     ],
     "language": "python",
     "metadata": {},
     "outputs": []
    },
    {
     "cell_type": "markdown",
     "metadata": {},
     "source": [
      "Pass this scoring function to the ``scoring`` parameter of the cross validation. What percentage does this model attain?"
     ]
    },
    {
     "cell_type": "code",
     "collapsed": false,
     "input": [],
     "language": "python",
     "metadata": {},
     "outputs": []
    },
    {
     "cell_type": "code",
     "collapsed": false,
     "input": [],
     "language": "python",
     "metadata": {},
     "outputs": []
    },
    {
     "cell_type": "code",
     "collapsed": false,
     "input": [],
     "language": "python",
     "metadata": {},
     "outputs": []
    },
    {
     "cell_type": "markdown",
     "metadata": {},
     "source": [
      "This illustrates one of the key pieces of doing machine learning with astronomy data: we can't simply rely on the defaults. We have to think about what we're after, and customize the output to get what we're after."
     ]
    },
    {
     "cell_type": "markdown",
     "metadata": {},
     "source": [
      "### 3. Moving to a more complex model\n",
      "\n",
      "There are a large number of regression routines available in scikit-learn; one of the most interesting is the Random Forest regressor (for some insight into Random Forests, see the [Random Forest Notebook](indepth_RandomForests.ipynb)).\n",
      "Repeat the above experiments using the random forest estimator. How does the R2 score and the outlier score compare to those obtained with simple linear regression?"
     ]
    },
    {
     "cell_type": "code",
     "collapsed": false,
     "input": [],
     "language": "python",
     "metadata": {},
     "outputs": []
    },
    {
     "cell_type": "code",
     "collapsed": false,
     "input": [],
     "language": "python",
     "metadata": {},
     "outputs": []
    },
    {
     "cell_type": "code",
     "collapsed": false,
     "input": [],
     "language": "python",
     "metadata": {},
     "outputs": []
    },
    {
     "cell_type": "markdown",
     "metadata": {},
     "source": [
      "### 4. Tuning the HyperParameters\n",
      "\n",
      "For random forests in particular, the choice of hyperparameters can be very important in finding the best fit.\n",
      "Adjust the ``n_estimators`` and ``max_depth`` parameters and see what the effect is.\n",
      "What's the best model for attaining high R2 score? For attaining a low outlier fraction?"
     ]
    },
    {
     "cell_type": "code",
     "collapsed": false,
     "input": [],
     "language": "python",
     "metadata": {},
     "outputs": []
    },
    {
     "cell_type": "code",
     "collapsed": false,
     "input": [],
     "language": "python",
     "metadata": {},
     "outputs": []
    },
    {
     "cell_type": "code",
     "collapsed": false,
     "input": [],
     "language": "python",
     "metadata": {},
     "outputs": []
    },
    {
     "cell_type": "markdown",
     "metadata": {},
     "source": [
      "Searching through a grid of hyperparameters for the optimal model is a very common (and useful!) task in performing a machine learning analysis.\n",
      "Scikit-learn provides a *Grid Search* interface to enable this to be done quickly. Take a look at the scikit-learn [Grid Search Documentation](http://scikit-learn.org/stable/modules/grid_search.html) and use the grid search tools to find the best combination of ``n_estimators`` and ``max_depth`` for your particular data.\n",
      "What's the best ``r2`` score & outlier score that you can attain with RandomForests on this dataset?"
     ]
    },
    {
     "cell_type": "code",
     "collapsed": false,
     "input": [],
     "language": "python",
     "metadata": {},
     "outputs": []
    },
    {
     "cell_type": "code",
     "collapsed": false,
     "input": [],
     "language": "python",
     "metadata": {},
     "outputs": []
    },
    {
     "cell_type": "code",
     "collapsed": false,
     "input": [],
     "language": "python",
     "metadata": {},
     "outputs": []
    },
    {
     "cell_type": "markdown",
     "metadata": {},
     "source": [
      "### 5. More Regression models\n",
      "\n",
      "If you have more time, read through the scikit-learn documentation and take a look at other regression models that are available. Try some of them on this dataset \u2013 keep in mind that some don't scale all that well to large numbers of samples, so it may be beneficial to use only a subset of the training data.\n",
      "\n",
      "Did you find any model which out-performs the random forest?"
     ]
    },
    {
     "cell_type": "code",
     "collapsed": false,
     "input": [],
     "language": "python",
     "metadata": {},
     "outputs": []
    },
    {
     "cell_type": "code",
     "collapsed": false,
     "input": [],
     "language": "python",
     "metadata": {},
     "outputs": []
    },
    {
     "cell_type": "code",
     "collapsed": false,
     "input": [],
     "language": "python",
     "metadata": {},
     "outputs": []
    }
   ],
   "metadata": {}
  }
 ]
}