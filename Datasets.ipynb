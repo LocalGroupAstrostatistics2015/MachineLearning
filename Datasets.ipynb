{
 "metadata": {
  "name": "",
  "signature": "sha256:16bf6ad2c65d1494d779e4eee3613226dbed01395cdd9890dc5839dc9eb93be5"
 },
 "nbformat": 3,
 "nbformat_minor": 0,
 "worksheets": [
  {
   "cells": [
    {
     "cell_type": "markdown",
     "metadata": {},
     "source": [
      "# Getting the Datasets\n",
      "\n",
      "AstroML includes commands for loading various datasets.\n",
      "The first time the command is run, it fetches the data from the web, does some preprocessing, and caches the result on disk.\n",
      "\n",
      "In order to not inadvertently bring down the network, we need to do a bit of prep to import the files from the memory stick provided by the conference organizers.\n",
      "The following function will do this, if you specify the correct path of the memory stick:"
     ]
    },
    {
     "cell_type": "code",
     "collapsed": false,
     "input": [
      "import os\n",
      "import sys\n",
      "import shutil\n",
      "import numpy as np\n",
      "from astroML.datasets import get_data_home\n",
      "\n",
      "def load_LGAStat_data(src_dir):\n",
      "    data_dir = get_data_home()\n",
      "    assert(os.path.exists(src_dir))\n",
      "    assert(os.path.isdir(src_dir))\n",
      "    \n",
      "    # specgals\n",
      "    filename = 'SDSSspecgalsDR8.fit'\n",
      "    print(\"copying {0}\".format(filename))\n",
      "    sys.stdout.flush()\n",
      "    shutil.copyfile(os.path.join(src_dir, filename),\n",
      "                    os.path.join(data_dir, filename))\n",
      "    \n",
      "    # RR Lyrae mags\n",
      "    filename = 'RRLyrae.fit'\n",
      "    print(\"copying {0}\".format(filename))\n",
      "    sys.stdout.flush()\n",
      "    shutil.copyfile(os.path.join(src_dir, filename),\n",
      "                    os.path.join(data_dir, filename))\n",
      "    \n",
      "    # Stripe 82\n",
      "    filename = 'stripe82calibStars_v2.6.dat.gz'\n",
      "    print(\"processing {0}\".format(filename))\n",
      "    sys.stdout.flush()\n",
      "    archive_file = 'sdss_S82standards.npy'\n",
      "    DTYPE = [('RA', 'f8'),\n",
      "             ('DEC', 'f8'),\n",
      "             ('RArms', 'f4'),\n",
      "             ('DECrms', 'f4'),\n",
      "             ('Ntot', 'i4'),\n",
      "             ('A_r', 'f4')]\n",
      "\n",
      "    for band in 'ugriz':\n",
      "        DTYPE += [('Nobs_%s' % band, 'i4')]\n",
      "        DTYPE += map(lambda s: (s + '_' + band, 'f4'),\n",
      "                     ['mmed', 'mmu', 'msig', 'mrms', 'mchi2'])\n",
      "    \n",
      "    # first column is 'CALIBSTARS'.  We'll ignore this.\n",
      "    COLUMNS = range(1, len(DTYPE) + 1)\n",
      "    kwargs = kwargs = dict(usecols=COLUMNS, dtype=DTYPE)\n",
      "\n",
      "    data = np.loadtxt(os.path.join(src_dir, filename), **kwargs)\n",
      "    np.save(os.path.join(data_dir, archive_file), data)\n",
      "    \n",
      "    # make sure that it worked\n",
      "    from astroML.datasets import fetch_rrlyrae_combined\n",
      "    from astroML.datasets import fetch_sdss_specgals\n",
      "    X, y = fetch_rrlyrae_combined(download_if_missing=False)\n",
      "    photoz_gals = fetch_sdss_specgals(download_if_missing=False)\n",
      "    \n",
      "    assert(X.shape == (93141, 4))\n",
      "    assert(photoz_gals.shape == (661598,))\n",
      "    \n",
      "    print(\"Finished!\")"
     ],
     "language": "python",
     "metadata": {},
     "outputs": []
    },
    {
     "cell_type": "markdown",
     "metadata": {},
     "source": [
      "### To Get the Data Without Killing The Network\n",
      "\n",
      "1. Copy ``LocalGroupAstrostatistics2015/obs/astroML`` directory to the directory where this notebook is\n",
      "2. Run the following code:"
     ]
    },
    {
     "cell_type": "code",
     "collapsed": false,
     "input": [
      "load_LGAStat_data('./astroML/')"
     ],
     "language": "python",
     "metadata": {},
     "outputs": []
    },
    {
     "cell_type": "markdown",
     "metadata": {},
     "source": [
      "(This will take a bit of time: it is reading and re-formatting some of the binary data).\n",
      "If that code block runs without raising an error, then you have the data cached on your system."
     ]
    },
    {
     "cell_type": "markdown",
     "metadata": {},
     "source": [
      "Now you can run these commands & astroML will load the cached version of the datasets we'll use:"
     ]
    },
    {
     "cell_type": "code",
     "collapsed": false,
     "input": [
      "from astroML.datasets import fetch_rrlyrae_combined\n",
      "X, y = fetch_rrlyrae_combined(download_if_missing=False)"
     ],
     "language": "python",
     "metadata": {},
     "outputs": []
    },
    {
     "cell_type": "code",
     "collapsed": false,
     "input": [
      "from astroML.datasets import fetch_sdss_specgals\n",
      "photoz_gals = fetch_sdss_specgals(download_if_missing=False)"
     ],
     "language": "python",
     "metadata": {},
     "outputs": []
    },
    {
     "cell_type": "markdown",
     "metadata": {},
     "source": [
      "The default value of ``download_if_missing`` is ``True``; if you change it & have not already cached the data, it will start a ~200MB download!"
     ]
    }
   ],
   "metadata": {}
  }
 ]
}